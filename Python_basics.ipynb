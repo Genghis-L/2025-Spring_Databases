{
 "cells": [
  {
   "cell_type": "markdown",
   "metadata": {},
   "source": [
    "# This is the notebook collection for Python basics. \n",
    "---\n",
    "Remark: I only upload knowledge I may forget\n",
    "\n",
    "## Table of Contents\n",
    "1. [Basic Libraries](#basic-libraries)\n",
    "2. [File Loading](#file-loading)\n",
    "3. [Special Functions](#special-functions)\n",
    "4. [Special Data Types](#special-data-types)"
   ]
  },
  {
   "cell_type": "code",
   "execution_count": null,
   "metadata": {},
   "outputs": [],
   "source": [
    "from datetime import datetime\n",
    "print(f\"Last update: {datetime.now().strftime('%Y / %m / %d')}\")"
   ]
  },
  {
   "cell_type": "markdown",
   "metadata": {},
   "source": [
    "## Basic Libraries\n",
    "\n",
    "[Back to Table of Contents](#table-of-contents)"
   ]
  },
  {
   "cell_type": "markdown",
   "metadata": {},
   "source": [
    "- Random"
   ]
  },
  {
   "cell_type": "code",
   "execution_count": null,
   "metadata": {},
   "outputs": [],
   "source": [
    "import random\n",
    "\n",
    "ran_int = random.randint(1,7)   # 1~7\n",
    "print(ran_int)\n",
    "\n",
    "dice=list(range(1,7))   # 1~6\n",
    "print(random.choice(dice))"
   ]
  },
  {
   "cell_type": "markdown",
   "metadata": {},
   "source": [
    "- time\n",
    "\n",
    "See examples in decorators"
   ]
  },
  {
   "cell_type": "markdown",
   "metadata": {},
   "source": [
    "- functools\n",
    "\n",
    "See examples in special functions `reduce` and caching example in decorators"
   ]
  },
  {
   "cell_type": "markdown",
   "metadata": {},
   "source": [
    "- sys\n",
    "\n",
    "See examples in list and generator comprehension"
   ]
  },
  {
   "cell_type": "markdown",
   "metadata": {},
   "source": [
    "- **pandas** \n"
   ]
  },
  {
   "cell_type": "markdown",
   "metadata": {},
   "source": [
    "## File Loading\n",
    "\n",
    "[Back to Table of Contents](#table-of-contents)"
   ]
  },
  {
   "cell_type": "code",
   "execution_count": null,
   "metadata": {},
   "outputs": [],
   "source": [
    "with open('data/starbucks_drinkMenu_expanded.csv', 'r') as f:\n",
    "    # use next to skip header\n",
    "    next(f)\n",
    "    # loop over a file, line-by-line\n",
    "    for line in f:\n",
    "        # break up line using comma\n",
    "        line_parts = line.split(',')\n",
    "        # select only drinks that have calories over 400\n",
    "        if int(line_parts[3]) > 400:\n",
    "            print(line_parts[1:4])"
   ]
  },
  {
   "cell_type": "markdown",
   "metadata": {},
   "source": [
    "The following is just a simple example of using pandas to load the file, check more in Stat_Basics!"
   ]
  },
  {
   "cell_type": "code",
   "execution_count": null,
   "metadata": {},
   "outputs": [],
   "source": [
    "# pandas has built-in support for reading csv files\n",
    "import pandas as pd\n",
    "starbucks=pd.read_csv('data/starbucks_drinkMenu_expanded.csv')\n",
    "print(starbucks.head(5))    # check the first 5 rows\n",
    "# print(starbucks)  # check the whole data\n",
    "# print(starbucks[starbucks['Calories']>400][['Beverage','Beverage_prep','Calories']])"
   ]
  },
  {
   "cell_type": "markdown",
   "metadata": {},
   "source": [
    "## Special Functions\n",
    "\n",
    "[Back to Table of Contents](#table-of-contents)"
   ]
  },
  {
   "cell_type": "markdown",
   "metadata": {},
   "source": [
    "- `any`, `all`"
   ]
  },
  {
   "cell_type": "code",
   "execution_count": null,
   "metadata": {},
   "outputs": [],
   "source": [
    "l=[5,4,True,100,1,[0]]\n",
    "print(all(l)) # True; note [0] is not False because it is not an empty list\n",
    "l.append(0)\n",
    "print(all(l)) # now False\n",
    "print(any(l)) # True\n",
    "l2=[False,0,0,False,[],{}]\n",
    "print(any(l2)) # False\n",
    "l2.append(5)\n",
    "print(any(l2)) # True\n",
    "print(all(l2)) # False"
   ]
  },
  {
   "cell_type": "markdown",
   "metadata": {},
   "source": [
    "- \"Variadic\" Functions"
   ]
  },
  {
   "cell_type": "code",
   "execution_count": null,
   "metadata": {},
   "outputs": [],
   "source": [
    "# `*args` collect all positional arguments into a tuple\n",
    "# `**kwargs` collect all keyword arguments into a dictionary\n",
    "def crazy(a, b, *args, **kwargs):\n",
    "    print(a, b, args, kwargs)  # 1 2 (3, 4) {'y': 2, 'z': 1}\n",
    "crazy(1,2,3,4,y=2, z=1)"
   ]
  },
  {
   "cell_type": "markdown",
   "metadata": {},
   "source": [
    "- `lamda`, `map`, `filter`, `reduce`"
   ]
  },
  {
   "cell_type": "code",
   "execution_count": null,
   "metadata": {},
   "outputs": [],
   "source": [
    "# `lambda`: creates an anonymous function\n",
    "addone = lambda x: x+1\n",
    "# `map`: applies function to every element of the range and return a list of the results\n",
    "print(list(map(addone, range(1,7))))\n",
    "\n",
    "# a good example of `lambda` and `map` combined\n",
    "cap_and_join = lambda *args: \" \".join(map(str.capitalize, args))\n",
    "print(cap_and_join(\"hello\", \"world\", \"python\"))\n",
    "\n",
    "# `reduce`: applies a function of two arguments cumulatively to the elements of an iterable\n",
    "from functools import reduce\n",
    "def add(x,y):\n",
    "    return x+y\n",
    "print(reduce(add,range(1,7))) # 1+2+3+4+5+6=21\n",
    "\n",
    "# a good example of `lambda` and `reduce` combined\n",
    "oursum= lambda *l: reduce(lambda x,y: x+y,l)\n",
    "print(oursum(1,2,3,4))  # 1+2+3+4=10\n",
    "\n",
    "# `filter`: returns a list of elements for which the function returns True\n",
    "def iseven(x):\n",
    "    return x%2==0\n",
    "print(list(filter(iseven,range(1,7))))"
   ]
  },
  {
   "cell_type": "markdown",
   "metadata": {},
   "source": [
    "- Decorators"
   ]
  },
  {
   "cell_type": "code",
   "execution_count": null,
   "metadata": {},
   "outputs": [],
   "source": [
    "def shout(old_func):\n",
    "    def new_func(*args):\n",
    "        res = old_func(*args)\n",
    "        return res + '!!!!!'\n",
    "    return new_func\n",
    "\n",
    "@shout\n",
    "def full_name(first,last):\n",
    "  return f\"{first} {last}\"\n",
    "# Or equivalently: full_name=shout(full_name)\n",
    "\n",
    "person=full_name('Alice','Alvarez')\n",
    "print(person)   # \"Alice Alvarez!!!!!\""
   ]
  },
  {
   "cell_type": "markdown",
   "metadata": {},
   "source": [
    "- Examples showing the use of decorators: timing and caching"
   ]
  },
  {
   "cell_type": "code",
   "execution_count": null,
   "metadata": {},
   "outputs": [],
   "source": [
    "## Timing a function\n",
    "import time\n",
    "def time_ns(func):\n",
    "  def wrapper(*args):\n",
    "      t = time.process_time_ns()\n",
    "      res = func(*args)\n",
    "      print(f\"The function {func.__name__} took {time.process_time_ns()-t} nanoseconds to run.\")\n",
    "      return res\n",
    "  return wrapper\n",
    "\n",
    "# series starts with 0,1,1,2,3,5 ...\n",
    "@time_ns\n",
    "def fibonnaci(n):\n",
    "  l=[0,1]\n",
    "  for i in range(2,n):\n",
    "    l.append(l[i-1]+l[i-2])\n",
    "  return l[n-1]\n",
    "\n",
    "print(fibonnaci(6))\n",
    "print(fibonnaci(20)) # As we have calculated fibonnaci(6) before, it will be faster\n",
    "print(fibonnaci(100))"
   ]
  },
  {
   "cell_type": "code",
   "execution_count": null,
   "metadata": {},
   "outputs": [],
   "source": [
    "# Caching results to speed up a function\n",
    "from functools import lru_cache\n",
    "\n",
    "@lru_cache(maxsize=None)\n",
    "def fib(n):\n",
    "    if n < 2:\n",
    "        return n\n",
    "    return fib(n-1) + fib(n-2)\n",
    "\n",
    "print([fib(n) for n in range(100)])\n",
    "\n",
    "print(fib.cache_info())"
   ]
  },
  {
   "cell_type": "markdown",
   "metadata": {},
   "source": [
    "- Iterators and Decorators"
   ]
  },
  {
   "cell_type": "code",
   "execution_count": null,
   "metadata": {},
   "outputs": [],
   "source": [
    "## Iterators (alphebet example)\n",
    "class Alphabet:\n",
    "    START, STOP = 65, 91\n",
    "    def __init__(self):\n",
    "        self.i = Alphabet.START\n",
    "\n",
    "    def __iter__(self):\n",
    "        return self\n",
    "\n",
    "    def __next__(self):\n",
    "        ch = chr(self.i)\n",
    "        self.i += 1\n",
    "        if self.i > Alphabet.STOP:\n",
    "            raise StopIteration\n",
    "        return ch\n",
    "\n",
    "for letter in Alphabet():\n",
    "    print(letter,\" \",end=\"\")"
   ]
  },
  {
   "cell_type": "code",
   "execution_count": null,
   "metadata": {},
   "outputs": [],
   "source": [
    "## Generators (alphebet example)\n",
    "def alphabet():\n",
    "    aRange=(ord(\"A\"), ord(\"Z\")+1)\n",
    "    for i in range(*aRange):\n",
    "        yield chr(i)\n",
    "\n",
    "for letter in alphabet():\n",
    "    print(letter,\" \",end=\"\")"
   ]
  },
  {
   "cell_type": "code",
   "execution_count": null,
   "metadata": {},
   "outputs": [],
   "source": [
    "# List Comprehensions and Generator Expressions\n",
    "lc = [i ** 2 for i in range(10000)] # list comprehention\n",
    "ge = (i ** 2 for i in range(10000)) # generator expression\n",
    "\n",
    "import sys\n",
    "print(sys.getsizeof(range(10000)))\n",
    "print(sys.getsizeof(ge))    # ge is much smaller than lc\n",
    "print(sys.getsizeof(lc))\n",
    "\n",
    "print(lc[2022:2026])\n",
    "try:\n",
    "    print(ge[2022:2026]) # can't do this.\n",
    "except TypeError as e:\n",
    "    print(e)"
   ]
  },
  {
   "cell_type": "markdown",
   "metadata": {},
   "source": [
    "- `Sorted`"
   ]
  },
  {
   "cell_type": "code",
   "execution_count": null,
   "metadata": {},
   "outputs": [],
   "source": [
    "# Sorted Can Take a Function as an Argument\n",
    "artists = [\"Matisse\",\"Picasso\",\"O'Keeffe\", \"Cassatt\",\"Renoir\"]\n",
    "print(sorted(artists))\n",
    "print(sorted(artists, key=len)) # sort by length of word \n",
    "print(sorted(artists, key=lambda s:s[-1])) # sort by the last character in the word"
   ]
  },
  {
   "cell_type": "markdown",
   "metadata": {},
   "source": [
    "## Special Data Types\n",
    "\n",
    "[Back to Table of Contents](#table-of-contents)"
   ]
  },
  {
   "cell_type": "code",
   "execution_count": null,
   "metadata": {},
   "outputs": [],
   "source": [
    "## Sets\n",
    "# 1. Immutablability\n",
    "# sets, like dictionary keys and tuples, are implemented with hashes, so they can't have mutable elements\n",
    "try:\n",
    "    {'foo', [1, 2, 3]}\n",
    "except TypeError as e:\n",
    "    print(type(e), e) \n",
    "\n",
    "# 2. Set operations\n",
    "words1={\"apple\", \"peach\", \"banana\"}\n",
    "words2={\"orange\",\"pear\"}\n",
    "words3={\"banana\",\"pineapple\"}\n",
    "\n",
    "# Union\n",
    "print(words1.union(words2))\n",
    "print(words2.union(words1))\n",
    "print(words1 | words2)\n",
    "# Intersection\n",
    "print(words1.intersection(words3))\n",
    "print(words3.intersection(words1))\n",
    "print(words1 & words3)\n",
    "\n",
    "# Key Differences\n",
    "words= {\"apple\", \"orange\", \"banana\", \"peach\"}\n",
    "# we can use union and intersection with other iterable types like lists or tuples\n",
    "print(words.union([1, 2, 3, 3]))\n",
    "print(words.union((5,6,6,7,7,7)))\n",
    "try:\n",
    "    # set operators will fail however\n",
    "    words | [1, 2, 2]\n",
    "except TypeError as e:\n",
    "    print(type(e), e)\n",
    "# we can fix by casting\n",
    "print(words | set([1,2,2]))\n",
    "\n",
    "## Set operations are useful ways for deduplication"
   ]
  }
 ],
 "metadata": {
  "kernelspec": {
   "display_name": "base",
   "language": "python",
   "name": "python3"
  },
  "language_info": {
   "codemirror_mode": {
    "name": "ipython",
    "version": 3
   },
   "file_extension": ".py",
   "mimetype": "text/x-python",
   "name": "python",
   "nbconvert_exporter": "python",
   "pygments_lexer": "ipython3",
   "version": "3.11.0"
  }
 },
 "nbformat": 4,
 "nbformat_minor": 2
}
