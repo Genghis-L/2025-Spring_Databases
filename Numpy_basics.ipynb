{
 "cells": [
  {
   "cell_type": "markdown",
   "metadata": {},
   "source": [
    "This is the notebook collection for Numpy basics. \n",
    "---\n",
    "Remark: I only upload knowledge I may forget\n",
    "\n",
    "## Table of Contents\n",
    "1. [Basics](#basics)"
   ]
  },
  {
   "cell_type": "markdown",
   "metadata": {},
   "source": [
    "## Basics\n",
    "\n",
    "[Back to Table of Contents](#table-of-contents)"
   ]
  },
  {
   "cell_type": "markdown",
   "metadata": {},
   "source": [
    "- Creating an ndarray"
   ]
  },
  {
   "cell_type": "code",
   "execution_count": null,
   "metadata": {},
   "outputs": [],
   "source": [
    "import numpy as np\n",
    "# one dimension, three columns\n",
    "x=np.array([1,2,3])\n",
    "print(x)\n",
    "print(x.shape,'\\n', x.ndim,'\\n'*2,'-'*10,'\\n')\n",
    "\n",
    "# two dimensions, two rows, 3 columns\n",
    "y=np.array([[1,2,3],[1,2,3]])\n",
    "print(y)\n",
    "print(y.shape,'\\n', y.ndim,'\\n'*2,'-'*10,'\\n')\n",
    "\n",
    "# three dimensions, two tables each with 3 rows and 2 columns\n",
    "z=np.array([[[1,2],[3,4],[5,6]],[[7,8],[9,10],[11,12]]])\n",
    "print(z)\n",
    "print(z.shape, '\\n', z.ndim)"
   ]
  },
  {
   "cell_type": "markdown",
   "metadata": {},
   "source": [
    "Note that x.ndim = len(x.shape)\n",
    "\n",
    "Scenarios requiring more than two dimensions: Historical data, Image data, Video"
   ]
  },
  {
   "cell_type": "markdown",
   "metadata": {},
   "source": [
    "- Reshape"
   ]
  },
  {
   "cell_type": "code",
   "execution_count": null,
   "metadata": {},
   "outputs": [],
   "source": [
    "import numpy as np\n",
    "a4=np.arange(0,24,1,dtype=int)\n",
    "a4=np.linspace(0,23, num=24,dtype=int)  # equivalent\n",
    "a4.shape=(3,8)\n",
    "print(a4)"
   ]
  },
  {
   "cell_type": "markdown",
   "metadata": {},
   "source": [
    "- Broadcasting"
   ]
  },
  {
   "cell_type": "code",
   "execution_count": null,
   "metadata": {},
   "outputs": [],
   "source": [
    "import numpy as np\n",
    "x=np.ones((3,3))\n",
    "y=np.array([1,2,3])\n",
    "print(x+y)"
   ]
  },
  {
   "cell_type": "markdown",
   "metadata": {},
   "source": [
    "- Indexing"
   ]
  },
  {
   "cell_type": "code",
   "execution_count": null,
   "metadata": {},
   "outputs": [],
   "source": [
    "import numpy as np\n",
    "\n",
    "big_arr = np.array([[1, 2, 3], [4, 5, 6], [7, 8, 9], [10, 11, 12]])\n",
    "print(big_arr)\n",
    "print(\"Second Element in Third Row:\",big_arr[2,1]) \n",
    "print(\"Second Element in Third Row:\",big_arr[2][1]) # alternate addressing\n",
    "print(\"First row:\", big_arr[0])\n",
    "print(\"First Two Rows:\\n\",big_arr[:2])\n",
    "print(\"First Two Columns:\\n\", big_arr[:,:2])\n",
    "print(\"First Two Columns of First Two Rows:\\n\", big_arr[:2,:2])"
   ]
  },
  {
   "cell_type": "markdown",
   "metadata": {},
   "source": [
    "- Flatten"
   ]
  },
  {
   "cell_type": "code",
   "execution_count": null,
   "metadata": {},
   "outputs": [],
   "source": [
    "import numpy as np\n",
    "x=np.arange(9).reshape(3,3)\n",
    "print(x)\n",
    "print(\"Rows with just last element in each: \",x[:,2:]) # keeps last element of each row, preserves matrix structure\n",
    "print(\"Flattened:\",x[:,2:].flatten())\n",
    "print(\"Another way:\",x[:,2])\n",
    "print(\"Last two rows\",x[1:,:])\n",
    "print(\"Last two rows flattened:\",f:=x[1:,:].flatten(),type(f)) # as an ndarray\n",
    "print(\"Another way:\", l:=[i for j in x[1:,:] for i in j], type(l))  # as a list"
   ]
  },
  {
   "cell_type": "code",
   "execution_count": null,
   "metadata": {},
   "outputs": [],
   "source": [
    "import numpy as np\n",
    "x=np.arange(15).reshape(5,3)\n",
    "print(x)\n",
    "rows=[False,True,False,True,False]\n",
    "print(x[rows]) # prints out second and fourth rows\n",
    "print()"
   ]
  },
  {
   "cell_type": "markdown",
   "metadata": {},
   "source": [
    "- Solving Linear System using `np.linalg`\n",
    "\n",
    "The follow represents the equation $\\mathbf{A x}=\\mathbf{b}$ of:\n",
    "\n",
    "$$\n",
    "\\begin{gathered}\n",
    "2 x+x_2-2 x_3=-3 \\\\\n",
    "3 x_1+x_3=5 \\\\\n",
    "x_1+x_2-x_3=-2\n",
    "\\end{gathered}\n",
    "$$\n",
    "\n",
    "\n",
    "It finds $x_1=1, x_2=-1$, and $x_3=2$"
   ]
  },
  {
   "cell_type": "code",
   "execution_count": null,
   "metadata": {},
   "outputs": [],
   "source": [
    "import numpy as np\n",
    "A = np.array([[2,1,-2],[3,0,1],[1,1,-1]])\n",
    "print(\"A:\",'\\n', A)\n",
    "b = np.transpose(np.array([[-3,5,-2]]))\n",
    "print(\"b:\",'\\n', b)\n",
    "\n",
    "x = np.linalg.solve(A,b)\n",
    "print(\"x:\",'\\n', x)\n",
    "\n",
    "print(\"Check Ax:\",'\\n', A.dot(x))"
   ]
  },
  {
   "cell_type": "markdown",
   "metadata": {},
   "source": [
    "- products"
   ]
  },
  {
   "cell_type": "code",
   "execution_count": null,
   "metadata": {},
   "outputs": [],
   "source": [
    "import numpy as np\n",
    "C = np.array([[1,2],[3,4]])\n",
    "print(C)\n",
    "print(\"Pairwise Multiplication:\")\n",
    "print(C*C)\n",
    "print(\"Matrix Multiplication, Three Ways:\")\n",
    "print(C@C)\n",
    "print(C.dot(C))\n",
    "print(np.matmul(C,C))\n",
    "\n",
    "import numpy as np\n",
    "X=np.array([1,2])\n",
    "Y=np.array([3,4])\n",
    "print(X)\n",
    "print(Y)\n",
    "\n",
    "print(np.inner(X,Y))    # new alternative way for dot product\n",
    "\n"
   ]
  },
  {
   "cell_type": "markdown",
   "metadata": {},
   "source": [
    "- Identity matrix"
   ]
  },
  {
   "cell_type": "code",
   "execution_count": null,
   "metadata": {},
   "outputs": [],
   "source": [
    "import numpy as np\n",
    "I = np.eye(2)"
   ]
  },
  {
   "cell_type": "markdown",
   "metadata": {},
   "source": [
    "NumPy has many functions. [Here](https://numpy.org/doc/stable/reference/index.html) are some of them:\n",
    "\n",
    "all, any, sin, cos, tan, around, floor, ceil, prod, sum, exp, log, dot, percentile, quantile, std, var, median, mean\n",
    "\n",
    "It also has many functions for matrices and linear algebra, such as functions that compute the transpose, trace, rank, determinant and inverse of a matrix, as well as its eigenvalues and eigenvectors."
   ]
  }
 ],
 "metadata": {
  "kernelspec": {
   "display_name": "base",
   "language": "python",
   "name": "python3"
  },
  "language_info": {
   "codemirror_mode": {
    "name": "ipython",
    "version": 3
   },
   "file_extension": ".py",
   "mimetype": "text/x-python",
   "name": "python",
   "nbconvert_exporter": "python",
   "pygments_lexer": "ipython3",
   "version": "3.11.0"
  }
 },
 "nbformat": 4,
 "nbformat_minor": 2
}
